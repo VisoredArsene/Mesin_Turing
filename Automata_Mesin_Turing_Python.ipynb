{
 "cells": [
  {
   "cell_type": "code",
   "execution_count": 35,
   "id": "b822c0e0-880b-4d4b-bfe9-68c99ab8e126",
   "metadata": {},
   "outputs": [
    {
     "name": "stdin",
     "output_type": "stream",
     "text": [
      "Masukkan input string:  bbaa\n"
     ]
    },
    {
     "name": "stdout",
     "output_type": "stream",
     "text": [
      "Status:  Ditolak\n"
     ]
    }
   ],
   "source": [
    "class TuringMachine:\n",
    "    def __init__(self, transitions, initial_state, accept_states, reject_states):\n",
    "        self.transitions = transitions\n",
    "        self.current_state = initial_state\n",
    "        self.accept_states = accept_states\n",
    "        self.reject_states = reject_states\n",
    "        self.tape = []\n",
    "        self.head_position = 0\n",
    "\n",
    "    def load_tape(self, input_string):\n",
    "        self.tape = list(input_string)\n",
    "\n",
    "    def run(self):\n",
    "        while True:\n",
    "            current_symbol = self.tape[self.head_position] if self.head_position < len(self.tape) else '_'\n",
    "\n",
    "            if (self.current_state, current_symbol) in self.transitions:\n",
    "                next_state, write_symbol, move_direction = self.transitions[(self.current_state, current_symbol)]\n",
    "\n",
    "                self.tape[self.head_position] = write_symbol\n",
    "\n",
    "                if move_direction == 'L':\n",
    "                    self.head_position -= 1\n",
    "                    if self.head_position < 0:\n",
    "                        self.tape.insert(0, '_')\n",
    "                        self.head_position = 0\n",
    "                elif move_direction == 'R':\n",
    "                    self.head_position += 1\n",
    "                    if self.head_position == len(self.tape):\n",
    "                        self.tape.append('_')\n",
    "\n",
    "                self.current_state = next_state\n",
    "            else:\n",
    "                break\n",
    "\n",
    "        if self.current_state in self.accept_states:\n",
    "            return True\n",
    "        elif self.current_state in self.reject_states:\n",
    "            return False\n",
    "        else:\n",
    "            return False\n",
    "\n",
    "def transform_result(result):\n",
    "    return result.replace('b', 'a')\n",
    "\n",
    "input_string = input(\"Masukkan input string: \")\n",
    "\n",
    "transitions = {\n",
    "    ('q1', 'a'): ('q1', 'a', 'R'),  # Transisi: q1, a -> q1, a, R\n",
    "    ('q1', 'b'): ('q1', 'a', 'R'),  # Transisi: q1, b -> q1, a, R\n",
    "    ('q1', ' '): ('q2', ' ', 'L')   # Transisi: q1, _ -> q2, ' ', L\n",
    "}\n",
    "initial_state = 'q1'\n",
    "accept_states = {'q2'}\n",
    "reject_states = {'q1'}\n",
    "\n",
    "tm = TuringMachine(transitions, initial_state, accept_states, reject_states)\n",
    "tm.load_tape(input_string)\n",
    "\n",
    "if tm.run():\n",
    "    result = transform_result(input_string)\n",
    "    status = \"Diterima\"\n",
    "    print(\"Hasil: \", result)\n",
    "else:\n",
    "    status = \"Ditolak\"\n",
    "\n",
    "print(\"Status: \", status)"
   ]
  },
  {
   "cell_type": "code",
   "execution_count": null,
   "id": "f7fd1702-0e52-4f7e-a14b-2300dd72cc92",
   "metadata": {},
   "outputs": [],
   "source": []
  }
 ],
 "metadata": {
  "kernelspec": {
   "display_name": "Python 3 (ipykernel)",
   "language": "python",
   "name": "python3"
  },
  "language_info": {
   "codemirror_mode": {
    "name": "ipython",
    "version": 3
   },
   "file_extension": ".py",
   "mimetype": "text/x-python",
   "name": "python",
   "nbconvert_exporter": "python",
   "pygments_lexer": "ipython3",
   "version": "3.10.9"
  }
 },
 "nbformat": 4,
 "nbformat_minor": 5
}
